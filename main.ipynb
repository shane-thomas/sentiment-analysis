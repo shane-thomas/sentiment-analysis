{
 "cells": [
  {
   "cell_type": "markdown",
   "id": "21ec7a44-9534-4f58-87ae-5e91693ffc20",
   "metadata": {},
   "source": [
    "Neural Network for sentiment Analysis multi class labelling\n",
    "Import libraries necessary first."
   ]
  }
 ],
 "metadata": {
  "kernelspec": {
   "display_name": ".venv (3.13.3)",
   "language": "python",
   "name": "python3"
  },
  "language_info": {
   "codemirror_mode": {
    "name": "ipython",
    "version": 3
   },
   "file_extension": ".py",
   "mimetype": "text/x-python",
   "name": "python",
   "nbconvert_exporter": "python",
   "pygments_lexer": "ipython3",
   "version": "3.13.3"
  }
 },
 "nbformat": 4,
 "nbformat_minor": 5
}
