{
 "cells": [
  {
   "cell_type": "markdown",
   "id": "21ec7a44-9534-4f58-87ae-5e91693ffc20",
   "metadata": {},
   "source": [
    "Neural Network for sentiment Analysis multi class labelling\n",
    "Import libraries necessary first."
   ]
  },
  {
   "cell_type": "code",
   "execution_count": null,
   "id": "49cb04b5-048d-40c4-83d2-6bec2db3eeee",
   "metadata": {},
   "outputs": [],
   "source": [
    "from datasets import load_dataset, ClassLabel\n",
    "from transformers import DistilBertTokenizerFast\n",
    "from transformers import DistilBertModel\n",
    "import torch\n",
    "from torch.utils.data import DataLoader \n",
    "import torch.nn as nn\n",
    "from tqdm import tqdm"
   ]
  },
  {
   "cell_type": "markdown",
   "id": "ee1c2e9b-dec0-46e9-a90a-55efff53f075",
   "metadata": {},
   "source": [
    "Dataset pre-processing:\n",
    "1. Load Dataset"
   ]
  },
  {
   "cell_type": "code",
   "execution_count": null,
   "id": "077a15be-35eb-475d-9da4-2b512a9ff9ad",
   "metadata": {},
   "outputs": [],
   "source": [
    "dataset = load_dataset('csv', data_files={'train': 'Reviews.csv'}, delimiter=',')\n",
    "\n",
    "def preprocess(example):\n",
    "    text = (example['Summary'] or \"\") + \": \" + (example['Text'] or \"\")\n",
    "    return {\n",
    "        'Text': text,\n",
    "        'label': int(example['Score']) - 1  #converting the examples from 1-5 to 0-4\n",
    "    }\n",
    "\n",
    "dataset = dataset.map(preprocess, remove_columns=dataset['train'].column_names)"
   ]
  },
  {
   "cell_type": "markdown",
   "id": "5b3d9c7b",
   "metadata": {},
   "source": [
    "2. Cast Class Labels to columns (necessary for working with datasets library)"
   ]
  },
  {
   "cell_type": "code",
   "execution_count": null,
   "id": "16e52c59",
   "metadata": {},
   "outputs": [],
   "source": [
    "label_feature = ClassLabel(num_classes=5, names=[\"negative\", \"somewhat negative\", \"neutral\", \"somewhat positive\", \"positive\"])\n",
    "dataset = dataset.cast_column('label', label_feature)"
   ]
  },
  {
   "cell_type": "markdown",
   "id": "7ed06c1f",
   "metadata": {},
   "source": [
    "3. Splitting the dataset into training, validation and test datasets."
   ]
  },
  {
   "cell_type": "code",
   "execution_count": null,
   "id": "948e8f7c",
   "metadata": {},
   "outputs": [],
   "source": [
    "print(dataset)"
   ]
  },
  {
   "cell_type": "code",
   "execution_count": null,
   "id": "d1101790",
   "metadata": {},
   "outputs": [],
   "source": [
    "train_split, _ = dataset[\"train\"].train_test_split(\n",
    "    test_size=0.75,  # Keep only 25% of the training data\n",
    "    stratify_by_column='label', seed=42).values()\n",
    "train_split, temp_split = train_split.train_test_split(test_size=0.2, stratify_by_column='label').values()\n",
    "val_split, test_split = temp_split.train_test_split(test_size=0.5, stratify_by_column='label').values()\n",
    "\n",
    "print(\"\\nLabel distribution in training subset:\")\n",
    "for label in range(5):  \n",
    "    count = sum(1 for l in train_split['label'] if l == label)\n",
    "    print(f\"  Label {label}: {count} samples ({count/len(train_split)*100:.2f}%)\")"
   ]
  },
  {
   "cell_type": "markdown",
   "id": "7ca0c3ee",
   "metadata": {},
   "source": [
    "4. Tokenization"
   ]
  },
  {
   "cell_type": "code",
   "execution_count": null,
   "id": "78208082",
   "metadata": {},
   "outputs": [],
   "source": [
    "tokenizer = DistilBertTokenizerFast.from_pretrained('distilbert-base-uncased')\n",
    "\n",
    "def tokenize_function(example):\n",
    "    return tokenizer(\n",
    "        example[\"Text\"],\n",
    "        padding=\"max_length\",\n",
    "        truncation=True,\n",
    "        max_length=120,\n",
    "    )\n",
    "\n",
    "train_dataset = train_split.map(tokenize_function, batched=True)\n",
    "val_dataset = val_split.map(tokenize_function, batched=True)\n",
    "test_dataset = test_split.map(tokenize_function, batched=True)\n",
    "\n",
    "# Set the format for PyTorch\n",
    "train_dataset.set_format(type=\"torch\", columns=[\"input_ids\", \"attention_mask\", \"label\"])\n",
    "val_dataset.set_format(type=\"torch\", columns=[\"input_ids\", \"attention_mask\", \"label\"])\n",
    "test_dataset.set_format(type=\"torch\", columns=[\"input_ids\", \"attention_mask\", \"label\"])"
   ]
  },
  {
   "cell_type": "code",
   "execution_count": null,
   "id": "d02ba316",
   "metadata": {},
   "outputs": [],
   "source": [
    "print(train_dataset)\n",
    "print()\n",
    "print(train_dataset[0])"
   ]
  }
 ],
 "metadata": {
  "kernelspec": {
   "display_name": ".venv (3.13.3)",
   "language": "python",
   "name": "python3"
  },
  "language_info": {
   "codemirror_mode": {
    "name": "ipython",
    "version": 3
   },
   "file_extension": ".py",
   "mimetype": "text/x-python",
   "name": "python",
   "nbconvert_exporter": "python",
   "pygments_lexer": "ipython3",
   "version": "3.13.3"
  }
 },
 "nbformat": 4,
 "nbformat_minor": 5
}
